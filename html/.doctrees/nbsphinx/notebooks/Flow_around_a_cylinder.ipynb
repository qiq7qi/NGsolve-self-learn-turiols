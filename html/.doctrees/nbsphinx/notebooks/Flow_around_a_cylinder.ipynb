{
 "cells": [
  {
   "cell_type": "markdown",
   "id": "43fbcc6b-acf9-431f-9d10-4ee58c629ef5",
   "metadata": {},
   "source": [
    "## Navier–Stokes 方程与弱形式\n",
    "\n",
    "不可压缩 Navier–Stokes 方程是描述粘性不可压流体随时间演化的基本模型，广泛应用于工程、物理和生物流体等领域。在本节中，我们将介绍其强形式与弱形式，并为后续数值离散构建理论基础。\n",
    "\n",
    "### 1. 方程组\n",
    "\n",
    "考虑在时空区域 $Q := \\Omega \\times (0,T)$ 上的不可压缩 Navier–Stokes 方程，其组成如下：\n",
    "\n",
    "1. **动量方程（Newton 第二定律）**：\n",
    "   $$\n",
    "   \\rho \\frac{\\partial \\mathbf{u}}{\\partial t} + \\rho (\\mathbf{u} \\cdot \\nabla) \\mathbf{u} = -\\nabla p + \\mu \\Delta \\mathbf{u} + \\mathbf{f},\n",
    "   $$\n",
    "\n",
    "2. **质量守恒方程（不可压缩性约束）**：\n",
    "   $$\n",
    "   \\nabla \\cdot \\mathbf{u} = 0.\n",
    "   $$\n",
    "\n",
    "其中变量含义为：\n",
    "\n",
    "- $\\mathbf{u} : \\Omega \\to \\mathbb{R}^d$ 为速度场；\n",
    "- $p : \\Omega \\to \\mathbb{R}$ 为压力场；\n",
    "- $\\rho$ 为常数密度；\n",
    "- $\\mu$ 为动力黏性系数；\n",
    "- $\\mathbf{f}$ 为体积力源项；\n",
    "- 通常 $\\Omega \\subset \\mathbb{R}^d$，$d=2$ 或 $3$。\n",
    "\n",
    "---\n",
    "\n",
    "### 2. 初始与边界条件\n",
    "\n",
    "为使问题适定，需要规定以下边值条件与初始条件：\n",
    "\n",
    "- **速度 Dirichlet 边界条件**：\n",
    "  $$\n",
    "  \\mathbf{u} = \\mathbf{g} \\quad \\text{on } \\partial \\Omega_D \\times (0,T),\n",
    "  $$\n",
    "\n",
    "- **Neumann 自然边界条件**（对应出口或自由边界）：\n",
    "  $$\n",
    "  \\boldsymbol{\\sigma}(\\mathbf{u}, p) \\cdot \\mathbf{n} = \\mathbf{h} \\quad \\text{on } \\partial \\Omega_N \\times (0,T),\n",
    "  $$\n",
    "  其中\n",
    "  $$\n",
    "  \\boldsymbol{\\sigma}(\\mathbf{u}, p) := -p \\mathbf{I} + 2\\mu \\varepsilon(\\mathbf{u}), \\quad\n",
    "  \\varepsilon(\\mathbf{u}) := \\frac{1}{2}(\\nabla \\mathbf{u} + \\nabla \\mathbf{u}^T).\n",
    "  $$\n",
    "\n",
    "- **初始条件**：\n",
    "  $$\n",
    "  \\mathbf{u}(\\mathbf{x}, 0) = \\mathbf{u}_0(\\mathbf{x}) \\quad \\text{in } \\Omega.\n",
    "  $$\n",
    "\n",
    "---\n",
    "\n",
    "### 3. 弱形式推导\n",
    "\n",
    "为进行有限元离散，我们对方程组乘以测试函数，并在空间上积分，得到如下弱形式。\n",
    "\n",
    "设：\n",
    "\n",
    "- $\\mathbf{V} := \\{ \\mathbf{v} \\in [H^1(\\Omega)]^d \\mid \\mathbf{v} = \\mathbf{0} \\text{ on } \\partial \\Omega_D \\}$；\n",
    "- $Q := L^2(\\Omega)$。\n",
    "\n",
    "则寻找 $(\\mathbf{u}, p) : [0, T] \\to \\mathbf{V} \\times Q$，使得对于任意 $(\\mathbf{v}, q) \\in \\mathbf{V} \\times Q$，有：\n",
    "\n",
    "$$\n",
    "\\begin{aligned}\n",
    "\\int_{\\Omega} \\partial_t \\mathbf{u} \\cdot \\mathbf{v} \\, dx\n",
    "+ \\int_{\\Omega} \\nu \\nabla \\mathbf{u} : \\nabla \\mathbf{v} \\, dx\n",
    "+ \\int_{\\Omega} (\\mathbf{u} \\cdot \\nabla)\\mathbf{u} \\cdot \\mathbf{v} \\, dx\n",
    "- \\int_{\\Omega} p \\nabla \\cdot \\mathbf{v} \\, dx\n",
    "&= \\int_{\\Omega} \\mathbf{f} \\cdot \\mathbf{v} \\, dx, \\\\\n",
    "- \\int_{\\Omega} q \\, \\nabla \\cdot \\mathbf{u} \\, dx &= 0.\n",
    "\\end{aligned}\n",
    "$$\n",
    "\n",
    "附带初始条件：\n",
    "\n",
    "$$\n",
    "\\mathbf{u}(x, 0) = \\mathbf{u}_0(x) \\quad \\text{in } \\Omega.\n",
    "$$\n"
   ]
  },
  {
   "cell_type": "markdown",
   "id": "a86c8e1d-e8d5-4c9f-be90-d683316c7047",
   "metadata": {},
   "source": [
    "## 1. 必要准备"
   ]
  },
  {
   "cell_type": "markdown",
   "id": "ba835460-5f16-4c5b-a7aa-2d1e0706bf0e",
   "metadata": {},
   "source": [
    "### 1.1 导入必要库"
   ]
  },
  {
   "cell_type": "code",
   "execution_count": 1,
   "id": "52eaefb6-78a9-42a6-961f-63fb87b6e5eb",
   "metadata": {},
   "outputs": [],
   "source": [
    "from ngsolve import *\n",
    "from ngsolve.webgui import Draw\n",
    "from netgen.occ import *\n",
    "from netgen.webgui import Draw as DrawGeo\n",
    "import matplotlib\n",
    "import numpy as np\n",
    "import matplotlib.pyplot as plt"
   ]
  },
  {
   "cell_type": "markdown",
   "id": "0040ec1c-56c1-4778-8321-88f2a17dc25d",
   "metadata": {},
   "source": [
    "### 1.2 必要参数设置"
   ]
  },
  {
   "cell_type": "code",
   "execution_count": 2,
   "id": "f485436e-8d26-4b09-b90b-c97d55ce2afb",
   "metadata": {},
   "outputs": [],
   "source": [
    "nu = 0.001\n",
    "dt = 0.001\n",
    "k = 3\n",
    "tend = 1\n",
    "t = 0; cnt = 0"
   ]
  },
  {
   "cell_type": "markdown",
   "id": "512e6d13-141f-48b8-af94-f019811796a0",
   "metadata": {},
   "source": [
    "## 2. 几何建模与网格生成（Geometry and Mesh Generation）\n",
    "\n",
    "为研究不可压缩纳维-斯托克斯（Navier–Stokes）方程在典型二维内部流动结构中的数值行为，本文采用有限元软件 **NGSolve** 构建了一个包含圆柱障碍物的二维矩形通道几何模型。该几何结构为经典的 **流经圆柱的流体问题（flow around a cylinder）** 提供了基础测试平台。"
   ]
  },
  {
   "cell_type": "markdown",
   "id": "ba9751cc-d7dc-4912-9916-3a12b257f30a",
   "metadata": {},
   "source": [
    "### 2.1 几何定义\n",
    "\n",
    "本研究所用的二维流动区域由以下部分构成：\n",
    "\n",
    "- 一个长为 $2.2$、高为 $0.41$ 的矩形通道；\n",
    "- 通道内部嵌有一个位于坐标点 $(0.2, 0.2)$、半径为 $0.05$ 的圆柱障碍物。\n",
    "\n",
    "上述几何通过 `Netgen/NGSolve` 的 `OCCGeometry` 模块构造如下："
   ]
  },
  {
   "cell_type": "code",
   "execution_count": 3,
   "id": "72e7c549-43c2-41e8-8654-4a1c20886b0c",
   "metadata": {},
   "outputs": [],
   "source": [
    "shape = Rectangle(2.2,0.41).Circle(0.2,0.2,0.05).Reverse().Face()"
   ]
  },
  {
   "cell_type": "markdown",
   "id": "ad5cda24-1a3d-47c4-96a8-4cdef0da7d20",
   "metadata": {},
   "source": [
    "### 2.2 边界条件区域标记\n",
    "\n",
    "为设定恰当的边界条件，需为几何边界赋予明确的名称，以便在后续弱形式构造与有限元空间定义中调用。具体边界标记如下："
   ]
  },
  {
   "cell_type": "code",
   "execution_count": 4,
   "id": "44d50201-d44e-40fe-b04b-b8dbe7cfd895",
   "metadata": {},
   "outputs": [],
   "source": [
    "# 为几何边界命名，用于后续施加边界条件\n",
    "shape.edges.name = \"cyl\"             # 内部圆柱边界\n",
    "shape.edges.Min(X).name = \"inlet\"    # 左侧入口边界\n",
    "shape.edges.Max(X).name = \"outlet\"   # 右侧出口边界\n",
    "shape.edges.Min(Y).name = \"wall\"     # 下壁面\n",
    "shape.edges.Max(Y).name = \"wall\"     # 上壁面"
   ]
  },
  {
   "cell_type": "markdown",
   "id": "aeca24e8-c2c6-453d-a7a8-350a0ffb113c",
   "metadata": {},
   "source": [
    "### 2.3 网格生成\n",
    "\n",
    "构建完成的几何体通过 OCC（OpenCascade） 内核生成有限元网格。为平衡计算效率与精度，本文将最大单元尺寸 `maxh` 设置为 $1/8$，并使用三阶曲线单元对边界进行几何拟合。"
   ]
  },
  {
   "cell_type": "code",
   "execution_count": 5,
   "id": "187a0cd7-7208-4aa9-b9cf-82146ea21cd3",
   "metadata": {},
   "outputs": [],
   "source": [
    "mesh = Mesh(OCCGeometry(shape, dim=2).GenerateMesh(maxh=1/8)).Curve(3) \n",
    "# `GenerateMesh(maxh=1/8)` 表示使用最大网格尺度为 $0.125$；\n",
    "# `.Curve(3)` 将几何边界提升为三阶拟合，以更准确地表示圆柱边界。"
   ]
  },
  {
   "cell_type": "markdown",
   "id": "2e790180-2452-45cf-b1d6-3d75847048d1",
   "metadata": {},
   "source": [
    "绘制图像（可选）"
   ]
  },
  {
   "cell_type": "code",
   "execution_count": 6,
   "id": "d7df8bbc-b47b-4285-b3e3-b5a999e07dc5",
   "metadata": {},
   "outputs": [
    {
     "data": {
      "application/vnd.jupyter.widget-view+json": {
       "model_id": "3ad9d57799fe4a2cbe9e8beee9736037",
       "version_major": 2,
       "version_minor": 0
      },
      "text/plain": [
       "WebGuiWidget(layout=Layout(height='50vh', width='100%'), value={'ngsolve_version': 'Netgen x.x', 'mesh_dim': 3…"
      ]
     },
     "metadata": {},
     "output_type": "display_data"
    },
    {
     "data": {
      "application/vnd.jupyter.widget-view+json": {
       "model_id": "5b05865fb3b34d18aafbd9abfb19e31d",
       "version_major": 2,
       "version_minor": 0
      },
      "text/plain": [
       "WebGuiWidget(layout=Layout(height='50vh', width='100%'), value={'gui_settings': {}, 'ngsolve_version': '6.2.25…"
      ]
     },
     "metadata": {},
     "output_type": "display_data"
    }
   ],
   "source": [
    "DrawGeo(shape);\n",
    "Draw(mesh);"
   ]
  },
  {
   "cell_type": "markdown",
   "id": "37676438-6ff0-4eb2-8077-2c9b5ffe258b",
   "metadata": {},
   "source": [
    "## 3. 有限元空间，边界条件与初值条件设定（Finite Element Spaces, Boundary Conditions and Initial Condition）\n",
    "\n",
    "为求解不可压缩 Navier–Stokes 方程，我们采用混合有限元方法构造速度和压力的函数空间。速度采用二阶向量型连续有限元（VectorH1），压力采用一阶标量连续有限元（H1），从而形成经典的 P2-P1 速度-压力配对，满足稳定性条件。"
   ]
  },
  {
   "cell_type": "markdown",
   "id": "bcc99542-ac66-42e7-bcdf-df052c619b7b",
   "metadata": {},
   "source": [
    "### 3.1 有限元空间定义"
   ]
  },
  {
   "cell_type": "code",
   "execution_count": 7,
   "id": "0d9eb3e8-c44d-4f4a-b48b-6471c0052232",
   "metadata": {},
   "outputs": [],
   "source": [
    "V = VectorH1(mesh, order=k, dirichlet=\"wall|cyl|inlet\")  # 设置速度空间，指定 Dirichlet 边界为壁面、圆柱和入口\n",
    "Q = H1(mesh, order=k-1)                                  # 压力空间为标量一阶 H1 空间\n",
    "X = V * Q                                                # 构造混合有限元空间（速度 × 压力）"
   ]
  },
  {
   "cell_type": "markdown",
   "id": "034c0f25-6bd4-483c-b314-05b4571f2acf",
   "metadata": {},
   "source": [
    "### 3.2 解函数与边界条件设定\n",
    "\n",
    "在耦合空间 `X` 上定义解函数 `gfu` ，其包含速度和压力两个分量，分别命名以方便调用和边界条件施加。"
   ]
  },
  {
   "cell_type": "code",
   "execution_count": 8,
   "id": "d7b0d7e8-ab32-496a-ba4a-f5f1599d85c5",
   "metadata": {},
   "outputs": [],
   "source": [
    "gfu = GridFunction(X)\n",
    "velocity, pressure = gfu.components"
   ]
  },
  {
   "cell_type": "markdown",
   "id": "70e0d3a3-3a0a-4987-a29a-958a0f57ae92",
   "metadata": {},
   "source": [
    "为解向量定义非齐次Dirichlet边界条件\n",
    "在入口处施加典型的层流抛物线速度分布，其 $x$ 方向速度分布为：\n",
    "\n",
    "$$\n",
    "u_{\\text{in}}(y) = \\left( \\frac{6}{0.41^2} y(0.41 - y), \\; 0 \\right)\n",
    "$$\n",
    "\n",
    "该分布在上下壁面速度为零，中部最大，符合管道流理论。"
   ]
  },
  {
   "cell_type": "code",
   "execution_count": 9,
   "id": "6f9d0400-e774-4301-b6ee-90cc076ae6eb",
   "metadata": {},
   "outputs": [],
   "source": [
    "uin = CoefficientFunction((1.5 * 4 * y * (0.41 - y) / (0.41 * 0.41), 0))  # 抛物线型入口速度分布\n",
    "velocity.Set(uin, definedon=mesh.Boundaries(\"inlet\"))                    # 在 inlet 边界上设置速度 Dirichlet 条件"
   ]
  },
  {
   "cell_type": "markdown",
   "id": "ff839159-01ea-4131-8f4e-7927fb378517",
   "metadata": {},
   "source": [
    "绘制图像（可选）"
   ]
  },
  {
   "cell_type": "code",
   "execution_count": 10,
   "id": "1a87f72f-e722-4f48-9a16-3e66cb1ec5ef",
   "metadata": {
    "scrolled": true
   },
   "outputs": [
    {
     "data": {
      "application/vnd.jupyter.widget-view+json": {
       "model_id": "b4a0eef95ff84ec9a12387aed323a992",
       "version_major": 2,
       "version_minor": 0
      },
      "text/plain": [
       "WebGuiWidget(layout=Layout(height='50vh', width='100%'), value={'gui_settings': {}, 'ngsolve_version': '6.2.25…"
      ]
     },
     "metadata": {},
     "output_type": "display_data"
    },
    {
     "data": {
      "application/vnd.jupyter.widget-view+json": {
       "model_id": "089f8866d00240e0ab33b34a301f96f5",
       "version_major": 2,
       "version_minor": 0
      },
      "text/plain": [
       "WebGuiWidget(layout=Layout(height='50vh', width='100%'), value={'gui_settings': {}, 'ngsolve_version': '6.2.25…"
      ]
     },
     "metadata": {},
     "output_type": "display_data"
    }
   ],
   "source": [
    "Draw(velocity);\n",
    "Draw(pressure);"
   ]
  },
  {
   "cell_type": "markdown",
   "id": "a2741883-f361-4d0e-a530-3c13c43a7306",
   "metadata": {},
   "source": [
    "### 3.3 Stokes 初始解的构造\n",
    "\n",
    "为提供稳定的初值，用稳态 Stokes 问题构造一个速度–压力场作为初始化。首先定义试验函数和检验函数，并构建双线性形式："
   ]
  },
  {
   "cell_type": "code",
   "execution_count": 11,
   "id": "9e4a09d2-7593-46e9-948f-3676e42ba0b6",
   "metadata": {},
   "outputs": [
    {
     "data": {
      "text/plain": [
       "<ngsolve.comp.LinearForm at 0x1b0b8e3e270>"
      ]
     },
     "execution_count": 11,
     "metadata": {},
     "output_type": "execute_result"
    }
   ],
   "source": [
    "(u, p), (v, q) = X.TnT()                                                  # 获取试验函数与检验函数\n",
    "a = BilinearForm(X)                                                      # 定义双线性形式\n",
    "stokes = (nu * InnerProduct(grad(u), grad(v)) - div(u) * q - div(v) * p) * dx  # Stokes 双线性项\n",
    "a += stokes                                                              # 加入双线性形式中\n",
    "a.Assemble();                                                             # 组装刚度矩阵\n",
    "f = LinearForm(X)         # 定义右端项\n",
    "f.Assemble()              # 组装右端项"
   ]
  },
  {
   "cell_type": "markdown",
   "id": "95237b38-9d69-40fe-9ee9-f24bc5e40fd5",
   "metadata": {},
   "source": [
    "最后求解 Stokes 系统，并将解更新至 'gfu.vec' 以作为后续 Navier–Stokes 求解的初始值："
   ]
  },
  {
   "cell_type": "code",
   "execution_count": 12,
   "id": "84d10f48-53e9-4d3f-baf5-926a303d7aa2",
   "metadata": {},
   "outputs": [],
   "source": [
    "res = f.vec - a.mat * gfu.vec                  # 计算初始残差\n",
    "inv_stokes = a.mat.Inverse(X.FreeDofs())       # 构建在自由自由度上的逆算子\n",
    "gfu.vec.data += inv_stokes * res               # 更新解函数为稳态 Stokes 解"
   ]
  },
  {
   "cell_type": "code",
   "execution_count": 13,
   "id": "6e3ce836-5814-4b98-b966-dbd6a87d25b1",
   "metadata": {},
   "outputs": [],
   "source": [
    "drag_x_test = GridFunction(X)\n",
    "drag_x_test.components[0].Set(CoefficientFunction((-20.0,0)), definedon=mesh.Boundaries(\"cyl\"))\n",
    "drag_y_test = GridFunction(X)\n",
    "drag_y_test.components[0].Set(CoefficientFunction((0,-20.0)), definedon=mesh.Boundaries(\"cyl\"))"
   ]
  },
  {
   "cell_type": "markdown",
   "id": "6cf54b78-e476-4597-bffa-571bf446cae1",
   "metadata": {},
   "source": [
    "绘制图像（可选）"
   ]
  },
  {
   "cell_type": "code",
   "execution_count": 14,
   "id": "32821aaa-8d07-4fe4-a3ae-24f2d7450ef7",
   "metadata": {},
   "outputs": [
    {
     "data": {
      "application/vnd.jupyter.widget-view+json": {
       "model_id": "88c05f97e54f4a90be216ffd389a380d",
       "version_major": 2,
       "version_minor": 0
      },
      "text/plain": [
       "WebGuiWidget(layout=Layout(height='50vh', width='100%'), value={'gui_settings': {}, 'ngsolve_version': '6.2.25…"
      ]
     },
     "metadata": {},
     "output_type": "display_data"
    },
    {
     "data": {
      "application/vnd.jupyter.widget-view+json": {
       "model_id": "118699729bfa494992256de753c21374",
       "version_major": 2,
       "version_minor": 0
      },
      "text/plain": [
       "WebGuiWidget(layout=Layout(height='50vh', width='100%'), value={'gui_settings': {}, 'ngsolve_version': '6.2.25…"
      ]
     },
     "metadata": {},
     "output_type": "display_data"
    }
   ],
   "source": [
    "Draw(velocity);\n",
    "Draw(pressure);"
   ]
  },
  {
   "cell_type": "markdown",
   "id": "fc9d1a45-4732-4a69-91fd-531b27a5cc92",
   "metadata": {},
   "source": [
    "## 4 时间离散与对流项处理\n",
    "\n",
    "不可压缩 Navier–Stokes 方程的完整形式为：\n",
    "\n",
    "$$\n",
    "\\begin{aligned}\n",
    "\\partial_t \\mathbf{u} + (\\mathbf{u} \\cdot \\nabla)\\mathbf{u} - \\nu \\Delta \\mathbf{u} + \\nabla p &= \\mathbf{f} \\quad \\text{in } \\Omega, \\\\\n",
    "\\operatorname{div}(\\mathbf{u}) &= 0 \\quad \\text{in } \\Omega.\n",
    "\\end{aligned}\n",
    "$$"
   ]
  },
  {
   "cell_type": "markdown",
   "id": "83cfa19c-c5eb-4468-9701-7e0d1dde978c",
   "metadata": {},
   "source": [
    "### 4.1 一般形式\n",
    "\n",
    "我们采用 **隐式–显式欧拉时间离散（IMEX Euler）** 策略，对时间导数项使用向后差分，对扩散项隐式处理，对对流项显式处理。\n",
    "\n",
    "设当前时间为 $t^n$，时间步长为 $\\Delta t$，已知速度解 $\\mathbf{u}^n$，则时间离散形式为：\n",
    "\n",
    "$(\\mathbf{u}^{n+1},p^{n+1}) \\in X = \\mathbf{V} \\times Q$, s.t. for all $(\\mathbf{v},q) \\in X = \\mathbf{V} \\times Q$\n",
    "\n",
    "\\begin{align}\n",
    "\\underbrace{m(\\mathbf{u}^{n+1},\\mathbf{v}) + \\Delta t ~\\cdot~a((\\mathbf{u}^{n+1},p^{n+1}),(\\mathbf{v},q))}_{ \\to M^\\ast} ~=~m(\\mathbf{u}^{n},\\mathbf{v}) - \\Delta t ~\\cdot~c(\\mathbf{u}^{n}; \\mathbf{u}^{n},\\mathbf{v}) \n",
    "\\end{align}"
   ]
  },
  {
   "cell_type": "markdown",
   "id": "b0bcf6c0-a61b-44b7-a4b9-ed100a725723",
   "metadata": {},
   "source": [
    "### 非齐次 Dirichlet 边界条件的处理\n",
    "\n",
    "上节推导的离散系统默认速度满足 $\\mathbf{u} = 0$ 于 $\\partial \\Omega_D$（即齐次 Dirichlet 条件）。在实际问题中，尤其是通道流、绕流问题中，我们往往在入口边界施加给定的速度剖面（如抛物线型分布）：\n",
    "\n",
    "$$\n",
    "\\mathbf{u} = \\mathbf{g} \\neq 0 \\quad \\text{on } \\partial \\Omega_D.\n",
    "$$\n",
    "\n",
    "为处理这类**非齐次边界条件**，常用的方法是**变量替换法（lifting method）**，即将问题的解写为：\n",
    "\n",
    "$$\n",
    "\\mathbf{u}^{n+1} = \\mathbf{u}_h^{n+1} + \\tilde{\\mathbf{g}},\n",
    "$$\n",
    "\n",
    "其中：\n",
    "\n",
    "- $\\mathbf{u}_h^{n+1} \\in \\mathbf{V}_0$，满足齐次边界条件，即 $\\mathbf{u}_h^{n+1} = 0$ on $\\partial \\Omega_D$；\n",
    "- $\\tilde{\\mathbf{g}}$ 是某个固定向量场，满足边界条件 $\\tilde{\\mathbf{g}} = \\mathbf{g}$ on $\\partial \\Omega_D$，在内部可以任意延拓。\n",
    "\n",
    "将 $\\mathbf{u}^{n+1}$ 代入离散系统中，并将其分离为：\n",
    "\n",
    "$$\n",
    "\\begin{pmatrix}\n",
    "\tK & Q \\\\\n",
    "\tQ^T & 0\n",
    "\\end{pmatrix}\n",
    "\\begin{pmatrix}\n",
    "\t\\mathbf{u}_h^{n+1} \\\\\n",
    "\t\\mathbf{p}^{n+1}\n",
    "\\end{pmatrix}\n",
    "=\n",
    "\\begin{pmatrix}\n",
    "\t\\mathrm{RHS}^{(i)} - K \\tilde{\\mathbf{g}} \\\\\n",
    "\t- Q^T \\tilde{\\mathbf{g}}\n",
    "\\end{pmatrix}.\n",
    "$$\n",
    "\n",
    "我们看到，**非齐次边界条件的影响表现为右端项的修正**，且不改变系统矩阵本身的结构。这种处理方法有两个优点：\n",
    "\n",
    "- 不需修改原有刚度矩阵装配过程；\n",
    "- 保证数值求解仅在自由度上进行，边界值通过 $\\tilde{\\mathbf{g}}$ 注入解中。\n",
    "\n",
    "在实现中，$\\tilde{\\mathbf{g}}$ 通常通过如下方式构造：\n",
    "\n",
    "- 在边界上插值速度剖面 $\\mathbf{g}$；\n",
    "- 在内部扩展为零或任意连续向量场；\n",
    "- 将其作为 `GridFunction` 的“已知值”施加在 Dirichlet 边界上；\n",
    "- 并将自由节点构成的子系统送入线性求解器。"
   ]
  },
  {
   "cell_type": "code",
   "execution_count": 15,
   "id": "cbd37e8f-3710-4678-9f32-991dfebbe2aa",
   "metadata": {},
   "outputs": [
    {
     "name": "stdout",
     "output_type": "stream",
     "text": [
      "t= 0.999000000000000876"
     ]
    }
   ],
   "source": [
    "gfuD = GridFunction(X)\n",
    "velocityD, pressureD = gfuD.components\n",
    "\n",
    "velocityD.Set(uin, definedon=mesh.Boundaries(\"inlet\"))\n",
    "\n",
    "mstar = BilinearForm(X)\n",
    "mstar += InnerProduct(u,v)*dx + dt*stokes\n",
    "mstar.Assemble()\n",
    "inv = mstar.mat.Inverse(X.FreeDofs())\n",
    "\n",
    "conv = BilinearForm(X, nonassemble = True)\n",
    "conv += (Grad(u) * u) * v * dx\n",
    "\n",
    "m = BilinearForm(InnerProduct(u,v)*dx).Assemble()\n",
    "\n",
    "gfut = GridFunction(gfu.space,multidim=0)\n",
    "time_vals, drag_x_vals, drag_y_vals = [],[],[]\n",
    "\n",
    "gfut.AddMultiDimComponent(gfu.vec)\n",
    "t = 0; cnt = 0\n",
    "while t < tend-0.5*dt:\n",
    "    print (\"\\rt=\", t, end=\"\")\n",
    "\n",
    "    conv.Assemble()\n",
    "    # print(conv.mat)\n",
    "    rhs = (m.mat - dt * conv.mat) * gfu.vec - mstar.mat * gfuD.vec\n",
    "    gfu.vec.data = gfuD.vec + inv * rhs\n",
    "\n",
    "    t = t + dt; cnt += 1\n",
    "    \n",
    "    res = (a.mat + conv.mat) * gfu.vec\n",
    "    drag_x_vals.append(InnerProduct(res, drag_x_test.vec) )\n",
    "    drag_y_vals.append(InnerProduct(res, drag_y_test.vec) )\n",
    "    time_vals.append(t)\n",
    "    \n",
    "    if cnt % 100 == 0:\n",
    "        gfut.AddMultiDimComponent(gfu.vec)"
   ]
  },
  {
   "cell_type": "code",
   "execution_count": 16,
   "id": "6d6dd161-95bf-4784-b664-10b5fad8482d",
   "metadata": {},
   "outputs": [
    {
     "data": {
      "application/vnd.jupyter.widget-view+json": {
       "model_id": "6e36cd1ac50847728e55a8dd6f171ee1",
       "version_major": 2,
       "version_minor": 0
      },
      "text/plain": [
       "WebGuiWidget(layout=Layout(height='50vh', width='100%'), value={'gui_settings': {}, 'ngsolve_version': '6.2.25…"
      ]
     },
     "metadata": {},
     "output_type": "display_data"
    },
    {
     "data": {
      "application/vnd.jupyter.widget-view+json": {
       "model_id": "c31c30bdb2b34a0b83d6212c3f48a132",
       "version_major": 2,
       "version_minor": 0
      },
      "text/plain": [
       "WebGuiWidget(layout=Layout(height='50vh', width='100%'), value={'gui_settings': {}, 'ngsolve_version': '6.2.25…"
      ]
     },
     "metadata": {},
     "output_type": "display_data"
    },
    {
     "data": {
      "image/png": "[encoded data removed]",
      "text/plain": [
       "<Figure size 640x480 with 1 Axes>"
      ]
     },
     "metadata": {},
     "output_type": "display_data"
    },
    {
     "data": {
      "image/png": "[encoded data removed]",
      "text/plain": [
       "<Figure size 640x480 with 1 Axes>"
      ]
     },
     "metadata": {},
     "output_type": "display_data"
    }
   ],
   "source": [
    "Draw (gfut.components[0], mesh, interpolate_multidim=True, animate=True,\n",
    "      min=0, max=1.9, autoscale=False, vectors = True)\n",
    "Draw (gfut.components[1], mesh, interpolate_multidim=True, animate=True,\n",
    "      min=-0.5, max=1, autoscale=False)\n",
    "\n",
    "# Plot drag force over time\n",
    "plt.plot(time_vals, drag_x_vals)\n",
    "plt.xlabel('time'); plt.ylabel('drag'); plt.title('drag'); plt.grid(True)\n",
    "plt.show()\n",
    "# Plot lift force over time\n",
    "plt.plot(time_vals, drag_y_vals)\n",
    "plt.xlabel('time'); plt.ylabel('lift'); plt.title('lift'); plt.grid(True)\n",
    "plt.show()"
   ]
  },
  {
   "cell_type": "markdown",
   "id": "d346d731-b565-424c-8d89-290b36b10b62",
   "metadata": {},
   "source": [
    "### 4.2 增量形式\n",
    "\n",
    "在增量格式中，如采用显式对流–隐式扩散结构（参考 Section~\\ref{subsec:bdf1-assembly} 的增量推进格式），速度更新形式为：\n",
    "\n",
    "$$\n",
    "\\mathbf{u}^{n+1} = \\mathbf{u}^{n} + \\delta\\mathbf{u}^{n+1},\n",
    "$$\n",
    "\n",
    "其中 $\\delta \\mathbf{u}^{n+1}$ 为当前步的速度增量。此时，边界条件 $\\mathbf{u}^{n+1} = \\mathbf{g}$ 被改写为：\n",
    "\n",
    "$$\n",
    "\\delta \\mathbf{u}^{n+1} = \\mathbf{g} - \\mathbf{u}^{n} \\quad \\text{on } \\partial\\Omega_D.\n",
    "$$\n",
    "\n",
    "因此，在构造增量形式下的系统时，只需将边界值 $\\mathbf{g}$ 替换为 $\\mathbf{g} - \\mathbf{u}^{n}$，即可保证增量项满足新的 Dirichlet 条件。\n",
    "\n",
    "数值实现中，一般先构造上一时刻插值 $\\mathbf{u}^{n}$，再计算差值：\n",
    "\n",
    "与全量系统处理方式一致，增量式下 lifting 同样以修正右端项为主，系统矩阵结构不受影响。\n",
    "\n",
    "该策略不仅适用于 Navier–Stokes，也适用于带非齐次边界条件的任意双线性时间推进系统。"
   ]
  },
  {
   "cell_type": "markdown",
   "id": "87c94266-37b2-4d9c-88cf-f3fe2f9e9de7",
   "metadata": {},
   "source": [
    "## 前置步骤同前"
   ]
  },
  {
   "cell_type": "code",
   "execution_count": 17,
   "id": "9f15f342-5ae9-4f3c-ad04-9463298ec2cd",
   "metadata": {},
   "outputs": [],
   "source": [
    "gfu = GridFunction(X)\n",
    "velocity, pressure = gfu.components\n",
    "\n",
    "uin = CoefficientFunction((1.5 * 4 * y * (0.41 - y) / (0.41 * 0.41), 0))  # 抛物线型入口速度分布\n",
    "velocity.Set(uin, definedon=mesh.Boundaries(\"inlet\"))                    # 在 inlet 边界上设置速度 Dirichlet 条件\n",
    "\n",
    "(u, p), (v, q) = X.TnT()                                                  # 获取试验函数与检验函数\n",
    "a = BilinearForm(X)                                                      # 定义双线性形式\n",
    "stokes = (nu * InnerProduct(grad(u), grad(v)) - div(u) * q - div(v) * p) * dx  # Stokes 双线性项\n",
    "a += stokes                                                              # 加入双线性形式中\n",
    "a.Assemble();                                                             # 组装刚度矩阵\n",
    "f = LinearForm(X)         # 定义右端项\n",
    "f.Assemble()              # 组装右端项\n",
    "\n",
    "res = f.vec - a.mat * gfu.vec                  # 计算初始残差\n",
    "inv_stokes = a.mat.Inverse(X.FreeDofs())       # 构建在自由自由度上的逆算子\n",
    "gfu.vec.data += inv_stokes * res               # 更新解函数为稳态 Stokes 解"
   ]
  },
  {
   "cell_type": "code",
   "execution_count": 18,
   "id": "3aef48cd-1ee4-4bcc-b288-9685b4aac423",
   "metadata": {},
   "outputs": [
    {
     "name": "stdout",
     "output_type": "stream",
     "text": [
      "t= 0.999000000000000876"
     ]
    }
   ],
   "source": [
    "mstar = BilinearForm(X)\n",
    "mstar += InnerProduct(u,v)*dx + dt*stokes\n",
    "mstar.Assemble()\n",
    "inv = mstar.mat.Inverse(X.FreeDofs())\n",
    "\n",
    "conv = BilinearForm(X, nonassemble = True)\n",
    "conv += (Grad(u) * u) * v * dx\n",
    "\n",
    "gfut = GridFunction(gfu.space,multidim=0)\n",
    "time_vals, drag_x_vals, drag_y_vals = [],[],[]\n",
    "\n",
    "gfut.AddMultiDimComponent(gfu.vec)\n",
    "t = 0; cnt = 0\n",
    "while t < tend-0.5*dt:\n",
    "    print (\"\\rt=\", t, end=\"\")\n",
    "\n",
    "    conv.Assemble()\n",
    "    # print(conv.mat)\n",
    "    res = (a.mat + conv.mat)* gfu.vec\n",
    "    gfu.vec.data -= dt * inv * res\n",
    "\n",
    "    t = t + dt; cnt += 1\n",
    "    \n",
    "    res = (a.mat + conv.mat) * gfu.vec\n",
    "    drag_x_vals.append(InnerProduct(res, drag_x_test.vec) )\n",
    "    drag_y_vals.append(InnerProduct(res, drag_y_test.vec) )\n",
    "    time_vals.append(t)\n",
    "    \n",
    "    if cnt % 100 == 0:\n",
    "        gfut.AddMultiDimComponent(gfu.vec)"
   ]
  },
  {
   "cell_type": "markdown",
   "id": "2511df98-9209-4c0a-8cdd-e3d7ec846cfc",
   "metadata": {},
   "source": [
    "动态图及drag-lift图像绘制（可选，若网格较细，动态图绘制可能对电脑造成较大负担）"
   ]
  },
  {
   "cell_type": "code",
   "execution_count": 19,
   "id": "31a82937-a3d0-4cda-87ed-2b04df18d61c",
   "metadata": {},
   "outputs": [
    {
     "data": {
      "application/vnd.jupyter.widget-view+json": {
       "model_id": "881018b56f3c43d1976c875b052c6ed2",
       "version_major": 2,
       "version_minor": 0
      },
      "text/plain": [
       "WebGuiWidget(layout=Layout(height='50vh', width='100%'), value={'gui_settings': {}, 'ngsolve_version': '6.2.25…"
      ]
     },
     "metadata": {},
     "output_type": "display_data"
    },
    {
     "data": {
      "application/vnd.jupyter.widget-view+json": {
       "model_id": "41cec71c52744b999a085aa6da4d76dd",
       "version_major": 2,
       "version_minor": 0
      },
      "text/plain": [
       "WebGuiWidget(layout=Layout(height='50vh', width='100%'), value={'gui_settings': {}, 'ngsolve_version': '6.2.25…"
      ]
     },
     "metadata": {},
     "output_type": "display_data"
    },
    {
     "data": {
      "image/png": "[encoded data removed]",
      "text/plain": [
       "<Figure size 640x480 with 1 Axes>"
      ]
     },
     "metadata": {},
     "output_type": "display_data"
    },
    {
     "data": {
      "image/png": "[encoded data removed]",
      "text/plain": [
       "<Figure size 640x480 with 1 Axes>"
      ]
     },
     "metadata": {},
     "output_type": "display_data"
    }
   ],
   "source": [
    "Draw (gfut.components[0], mesh, interpolate_multidim=True, animate=True,\n",
    "      min=0, max=1.9, autoscale=False, vectors = True)\n",
    "Draw (gfut.components[1], mesh, interpolate_multidim=True, animate=True,\n",
    "      min=-0.5, max=1, autoscale=False)\n",
    "\n",
    "# Plot drag force over time\n",
    "plt.plot(time_vals, drag_x_vals)\n",
    "plt.xlabel('time'); plt.ylabel('drag'); plt.title('drag'); plt.grid(True)\n",
    "plt.show()\n",
    "# Plot lift force over time\n",
    "plt.plot(time_vals, drag_y_vals)\n",
    "plt.xlabel('time'); plt.ylabel('lift'); plt.title('lift'); plt.grid(True)\n",
    "plt.show()"
   ]
  },
  {
   "cell_type": "markdown",
   "id": "9d73dbb0-2b72-453f-b883-27b03f68a812",
   "metadata": {},
   "source": [
    "内容保存（使用paraview进行图像可视化）"
   ]
  },
  {
   "cell_type": "markdown",
   "id": "754bc1fc-7244-4682-947d-af53f7d5027d",
   "metadata": {},
   "source": [
    "## 5. 结果输出与可视化准备（Postprocessing and Visualization Setup）\n",
    "\n",
    "数值模拟完成后，我们对所得解进行保存与可视化，主要包括两类数据：\n",
    "\n",
    "- 时间演化过程中**阻力与升力的变化曲线**；\n",
    "- 多帧速度与压强场的导出，用于可视化（如 Paraview）。\n",
    "\n",
    "我们将时间、$x$ 方向阻力（drag）与 $y$ 方向升力（lift）保存为 `.npz` 格式，便于后续分析或绘图。\n",
    "\n",
    "为实现时序数据的三维可视化，我们还将解序列中的速度与压强分别导出为 VTK 文件。由于 NGSolve 是二维计算域，为满足 VTK 三维向量格式要求，需将速度向量补全为 $(u, v, 0)$：\n",
    "\n",
    "最终，在 `ouputdir/Cylinder_Incremention_BDF1/` 目录下，将生成多个 `.vtu` 文件，供后续使用 Paraview 等工具进行可视化展示和动画制作。"
   ]
  },
  {
   "cell_type": "code",
   "execution_count": 20,
   "id": "9079665b-2349-4dfb-af85-26f50a5bcd01",
   "metadata": {},
   "outputs": [
    {
     "name": "stdout",
     "output_type": "stream",
     "text": [
      "已写出： .\\ouputdir\\Cylinder_Incremention_BDF1\\1000_8_1000_step00010\n"
     ]
    }
   ],
   "source": [
    "import numpy as np\n",
    "\n",
    "np.savez('cylinder_drag_lift.npz', time=time_vals, drag=drag_x_vals, lift=drag_y_vals)\n",
    "\n",
    "import os\n",
    "\n",
    "outdir = r\".\\ouputdir\\Cylinder_Incremention_BDF1\"\n",
    "os.makedirs(outdir, exist_ok=True)  # 自动创建目录\n",
    "file_path = os.path.join(outdir, \"1000_8_1000\")\n",
    "vel_cf = CoefficientFunction((\n",
    "    gfu.components[0][0],\n",
    "    gfu.components[0][1],\n",
    "    0.0  # 补上 Z 分量，使其为 3D vector\n",
    "))\n",
    "pres_cf = gfu.components[1]\n",
    "\n",
    "vtkout = VTKOutput(\n",
    "    mesh,\n",
    "    coefs = [vel_cf, pres_cf],\n",
    "    names = [\"velocity\", \"pressure\"],\n",
    "    filename = file_path,\n",
    "    subdivision = 2\n",
    ")\n",
    "\n",
    "nframes = len(gfut.vecs)  # 多帧数量\n",
    "\n",
    "for i in range(nframes):\n",
    "    # 提取第i帧的解\n",
    "    gfu.vec.data = gfut.vecs[i]  # 恢复到第i帧\n",
    "    outname = vtkout.Do(time=i)\n",
    "print(\"已写出：\", outname)"
   ]
  }
 ],
 "metadata": {
  "kernelspec": {
   "display_name": "Python 3 (ipykernel)",
   "language": "python",
   "name": "python3"
  },
  "language_info": {
   "codemirror_mode": {
    "name": "ipython",
    "version": 3
   },
   "file_extension": ".py",
   "mimetype": "text/x-python",
   "name": "python",
   "nbconvert_exporter": "python",
   "pygments_lexer": "ipython3",
   "version": "3.10.4"
  }
 },
 "nbformat": 4,
 "nbformat_minor": 5
}
