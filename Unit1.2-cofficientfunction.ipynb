{
 "cells": [
  {
   "cell_type": "markdown",
   "id": "9ec59811-920d-44aa-b109-d697a4b3d7ee",
   "metadata": {},
   "source": [
    "# 1.2 CoefficientFunctions\n",
    "\n",
    "- **define** a `CoefficientFunction`\n",
    "- **visualize**  a `CoefficientFunction`\n",
    "- **evaluate** `CoefficientFunction`s at points\n",
    "- print the **expression tree** of `CoefficientFunction`\n",
    "- **integrate** a `CoefficientFunction`\n",
    "- **differentiate** a `CoefficientFunction`\n",
    "- include **parameter** in `CoefficientFunction`s\n",
    "- **interpolate** a `CoefficientFunction` into a finite element space\n",
    "- define **vector-valued** `CoefficientFunction`s \n",
    "- **compile** `CoefficientFunction`s"
   ]
  },
  {
   "cell_type": "code",
   "execution_count": 2,
   "id": "1eb3849c-2666-4fc0-9e6a-69052b5fd4af",
   "metadata": {},
   "outputs": [],
   "source": [
    "from ngsolve import *\n",
    "from ngsolve.webgui import Draw\n",
    "import matplotlib.pyplot as plt\n",
    "mesh = Mesh(unit_square.GenerateMesh(maxh = 0.2))"
   ]
  },
  {
   "cell_type": "markdown",
   "id": "7ffab898-16c9-4c59-84c8-916dd447d6ba",
   "metadata": {},
   "source": [
    "## 1. define a CoefficientFunction"
   ]
  },
  {
   "cell_type": "code",
   "execution_count": 17,
   "id": "34537960-22df-46b4-bda3-170892364ba7",
   "metadata": {},
   "outputs": [
    {
     "data": {
      "text/plain": [
       "<ngsolve.fem.CoefficientFunction at 0x71a27bf0e8e0>"
      ]
     },
     "execution_count": 17,
     "metadata": {},
     "output_type": "execute_result"
    }
   ],
   "source": [
    "myfunc = x * (1-y)\n",
    "myfunc"
   ]
  },
  {
   "cell_type": "code",
   "execution_count": 18,
   "id": "4f94830b-3c15-40f1-84ad-ed4c5860041f",
   "metadata": {},
   "outputs": [
    {
     "data": {
      "text/plain": [
       "<ngsolve.fem.CoefficientFunction at 0x71a290d7f880>"
      ]
     },
     "execution_count": 18,
     "metadata": {},
     "output_type": "execute_result"
    }
   ],
   "source": [
    "x"
   ]
  },
  {
   "cell_type": "markdown",
   "id": "a1ce589a-1add-4540-b0c1-a285fb08c31d",
   "metadata": {},
   "source": [
    "## 2. visualize a `CoefficientFunction`"
   ]
  },
  {
   "cell_type": "code",
   "execution_count": 19,
   "id": "16aa4767-3cda-49f8-afd1-61909b41cd69",
   "metadata": {},
   "outputs": [
    {
     "data": {
      "application/vnd.jupyter.widget-view+json": {
       "model_id": "45664e0db22d4063988388b864f7305b",
       "version_major": 2,
       "version_minor": 0
      },
      "text/plain": [
       "WebGuiWidget(layout=Layout(height='50vh', width='100%'), value={'gui_settings': {}, 'ngsolve_version': '6.2.24…"
      ]
     },
     "metadata": {},
     "output_type": "display_data"
    }
   ],
   "source": [
    "Draw(myfunc, mesh);"
   ]
  },
  {
   "cell_type": "markdown",
   "id": "a8395490-e01f-42ce-9a12-8244fb75647a",
   "metadata": {},
   "source": [
    "## 3. evaluate `CoefficientFunction`s at points"
   ]
  },
  {
   "cell_type": "code",
   "execution_count": 23,
   "id": "0a7a01c7-802f-4fec-af6e-e5e7ed044a4b",
   "metadata": {},
   "outputs": [
    {
     "name": "stdout",
     "output_type": "stream",
     "text": [
      "0.1\n"
     ]
    }
   ],
   "source": [
    "mip = mesh(0.2, 0.5) # select point(0.2,0.5)\n",
    "print(myfunc(mip)) # evaluate"
   ]
  },
  {
   "cell_type": "code",
   "execution_count": 30,
   "id": "c425bfba-f29e-45c9-b36b-84a28d0b98bd",
   "metadata": {},
   "outputs": [
    {
     "name": "stdout",
     "output_type": "stream",
     "text": [
      "point=(0.00,0.20),value=0.00000\n",
      "point=(0.10,0.20),value=0.08000\n",
      "point=(0.20,0.20),value=0.16000\n",
      "point=(0.30,0.20),value=0.24000\n",
      "point=(0.40,0.20),value=0.32000\n",
      "point=(0.50,0.20),value=0.40000\n",
      "point=(0.60,0.20),value=0.48000\n",
      "point=(0.70,0.20),value=0.56000\n",
      "point=(0.80,0.20),value=0.64000\n",
      "point=(0.90,0.20),value=0.72000\n",
      "point=(1.00,0.20),value=0.80000\n"
     ]
    }
   ],
   "source": [
    "points = [(0.1*i,0.2) for i in range(11)]\n",
    "values = [myfunc(mesh(*p)) for p in points]\n",
    "# print continous point on mesh\n",
    "for p,v in zip(points, values):\n",
    "    print(f'point=({p[0]:3.2f},{p[1]:3.2f}),value={v:6.5f}')"
   ]
  },
  {
   "cell_type": "code",
   "execution_count": 37,
   "id": "b6af98f3-cad9-454d-95cf-70bcb450af72",
   "metadata": {
    "collapsed": true,
    "jupyter": {
     "outputs_hidden": true
    },
    "scrolled": true
   },
   "outputs": [
    {
     "name": "stdout",
     "output_type": "stream",
     "text": [
      "[[0.        ]\n",
      " [0.00808081]\n",
      " [0.01616162]\n",
      " [0.02424242]\n",
      " [0.03232323]\n",
      " [0.04040404]\n",
      " [0.04848485]\n",
      " [0.05656566]\n",
      " [0.06464646]\n",
      " [0.07272727]\n",
      " [0.08080808]\n",
      " [0.08888889]\n",
      " [0.0969697 ]\n",
      " [0.10505051]\n",
      " [0.11313131]\n",
      " [0.12121212]\n",
      " [0.12929293]\n",
      " [0.13737374]\n",
      " [0.14545455]\n",
      " [0.15353535]\n",
      " [0.16161616]\n",
      " [0.16969697]\n",
      " [0.17777778]\n",
      " [0.18585859]\n",
      " [0.19393939]\n",
      " [0.2020202 ]\n",
      " [0.21010101]\n",
      " [0.21818182]\n",
      " [0.22626263]\n",
      " [0.23434343]\n",
      " [0.24242424]\n",
      " [0.25050505]\n",
      " [0.25858586]\n",
      " [0.26666667]\n",
      " [0.27474747]\n",
      " [0.28282828]\n",
      " [0.29090909]\n",
      " [0.2989899 ]\n",
      " [0.30707071]\n",
      " [0.31515152]\n",
      " [0.32323232]\n",
      " [0.33131313]\n",
      " [0.33939394]\n",
      " [0.34747475]\n",
      " [0.35555556]\n",
      " [0.36363636]\n",
      " [0.37171717]\n",
      " [0.37979798]\n",
      " [0.38787879]\n",
      " [0.3959596 ]\n",
      " [0.4040404 ]\n",
      " [0.41212121]\n",
      " [0.42020202]\n",
      " [0.42828283]\n",
      " [0.43636364]\n",
      " [0.44444444]\n",
      " [0.45252525]\n",
      " [0.46060606]\n",
      " [0.46868687]\n",
      " [0.47676768]\n",
      " [0.48484848]\n",
      " [0.49292929]\n",
      " [0.5010101 ]\n",
      " [0.50909091]\n",
      " [0.51717172]\n",
      " [0.52525253]\n",
      " [0.53333333]\n",
      " [0.54141414]\n",
      " [0.54949495]\n",
      " [0.55757576]\n",
      " [0.56565657]\n",
      " [0.57373737]\n",
      " [0.58181818]\n",
      " [0.58989899]\n",
      " [0.5979798 ]\n",
      " [0.60606061]\n",
      " [0.61414141]\n",
      " [0.62222222]\n",
      " [0.63030303]\n",
      " [0.63838384]\n",
      " [0.64646465]\n",
      " [0.65454545]\n",
      " [0.66262626]\n",
      " [0.67070707]\n",
      " [0.67878788]\n",
      " [0.68686869]\n",
      " [0.69494949]\n",
      " [0.7030303 ]\n",
      " [0.71111111]\n",
      " [0.71919192]\n",
      " [0.72727273]\n",
      " [0.73535354]\n",
      " [0.74343434]\n",
      " [0.75151515]\n",
      " [0.75959596]\n",
      " [0.76767677]\n",
      " [0.77575758]\n",
      " [0.78383838]\n",
      " [0.79191919]\n",
      " [0.8       ]]\n"
     ]
    },
    {
     "data": {
      "image/png": "[encoded data removed]",
      "text/plain": [
       "<Figure size 640x480 with 1 Axes>"
      ]
     },
     "metadata": {},
     "output_type": "display_data"
    }
   ],
   "source": [
    "import numpy as np\n",
    "X = np.linspace(0,1,num=100)\n",
    "Y = np.ones_like(X) * 0.2\n",
    "print(myfunc(mesh(X, Y))) # array\n",
    "\n",
    "plt.plot(X, myfunc(mesh(X, Y)))\n",
    "plt.show()"
   ]
  },
  {
   "cell_type": "markdown",
   "id": "cb97b428-45b6-456f-8910-64d79f92524d",
   "metadata": {},
   "source": [
    "## 4. print the **expression tree** of `CoefficientFunction`"
   ]
  },
  {
   "cell_type": "code",
   "execution_count": 42,
   "id": "12bb50e2-b93e-4de9-ad2d-5cd1ec632b47",
   "metadata": {},
   "outputs": [
    {
     "name": "stdout",
     "output_type": "stream",
     "text": [
      "coef binary operation '*', real\n",
      "  coef coordinate x, real\n",
      "  coef binary operation '-', real\n",
      "    coef 1, real\n",
      "    coef coordinate y, real\n",
      "\n"
     ]
    }
   ],
   "source": [
    "print(myfunc) # use tree structure to store CoefficientFunction"
   ]
  },
  {
   "cell_type": "markdown",
   "id": "00122019-cd41-4d7f-a01b-5cb34f8cfa10",
   "metadata": {},
   "source": [
    "## 5. integrate a `CoefficientFunction`"
   ]
  },
  {
   "cell_type": "code",
   "execution_count": 39,
   "id": "aa7ecacf-600e-4f13-ab4a-382e0ccd358d",
   "metadata": {},
   "outputs": [
    {
     "data": {
      "text/plain": [
       "0.24999999999999895"
      ]
     },
     "execution_count": 39,
     "metadata": {},
     "output_type": "execute_result"
    }
   ],
   "source": [
    "Integrate(myfunc, mesh, order = 5) # integrate function"
   ]
  },
  {
   "cell_type": "markdown",
   "id": "341a57bf-ff15-45e5-8606-8c4dd311e2fa",
   "metadata": {},
   "source": [
    "## 6. differentiate a `CoefficientFunction`"
   ]
  },
  {
   "cell_type": "code",
   "execution_count": 40,
   "id": "e81efe2b-a510-4491-852c-8143009d6c59",
   "metadata": {},
   "outputs": [
    {
     "data": {
      "application/vnd.jupyter.widget-view+json": {
       "model_id": "6665cfd38dd24ff69e57326363adf84d",
       "version_major": 2,
       "version_minor": 0
      },
      "text/plain": [
       "WebGuiWidget(layout=Layout(height='50vh', width='100%'), value={'gui_settings': {}, 'ngsolve_version': '6.2.24…"
      ]
     },
     "metadata": {},
     "output_type": "display_data"
    },
    {
     "data": {
      "text/plain": [
       "BaseWebGuiScene"
      ]
     },
     "execution_count": 40,
     "metadata": {},
     "output_type": "execute_result"
    }
   ],
   "source": [
    "diff_func = myfunc.Diff(x)\n",
    "Draw(diff_func, mesh, \"derivative\")"
   ]
  },
  {
   "cell_type": "code",
   "execution_count": 41,
   "id": "397c2dda-3c15-4487-922f-7316ef6c5d41",
   "metadata": {},
   "outputs": [
    {
     "name": "stdout",
     "output_type": "stream",
     "text": [
      "coef binary operation '*', real\n",
      "  coef binary operation '-', real\n",
      "    coef 1, real\n",
      "    coef coordinate y, real\n",
      "  coef 1, real\n",
      "\n"
     ]
    }
   ],
   "source": [
    "print(diff_func)"
   ]
  },
  {
   "cell_type": "markdown",
   "id": "da4b5bb4-878e-429f-8776-e1a76ec75538",
   "metadata": {},
   "source": [
    "## 6. parameter in `CoefficientFunction`s"
   ]
  },
  {
   "cell_type": "code",
   "execution_count": 45,
   "id": "37c83c26-ee07-49a6-ab22-fb7b794d0a7e",
   "metadata": {},
   "outputs": [
    {
     "data": {
      "application/vnd.jupyter.widget-view+json": {
       "model_id": "eb265233802f48c79a0facd666accf62",
       "version_major": 2,
       "version_minor": 0
      },
      "text/plain": [
       "WebGuiWidget(layout=Layout(height='50vh', width='100%'), value={'gui_settings': {}, 'ngsolve_version': '6.2.24…"
      ]
     },
     "metadata": {},
     "output_type": "display_data"
    }
   ],
   "source": [
    "k = Parameter(1.0) # set parameter k,such that we can dynamically modify parameter while computer\n",
    "f = sin(k*y)\n",
    "Draw(f,mesh);"
   ]
  },
  {
   "cell_type": "code",
   "execution_count": 50,
   "id": "32f2985a-33e1-42f6-801d-6b9252c74a84",
   "metadata": {},
   "outputs": [
    {
     "data": {
      "application/vnd.jupyter.widget-view+json": {
       "model_id": "71dc91a97a044fe989e81ff934cfabfd",
       "version_major": 2,
       "version_minor": 0
      },
      "text/plain": [
       "WebGuiWidget(layout=Layout(height='50vh', width='100%'), value={'gui_settings': {}, 'ngsolve_version': '6.2.24…"
      ]
     },
     "metadata": {},
     "output_type": "display_data"
    }
   ],
   "source": [
    "k.Set(5.0)\n",
    "Draw(f,mesh);"
   ]
  },
  {
   "cell_type": "code",
   "execution_count": 51,
   "id": "cb5e8fa6-e331-4f29-9ec0-0dee034e5209",
   "metadata": {},
   "outputs": [
    {
     "name": "stdout",
     "output_type": "stream",
     "text": [
      "coef binary operation '*', real\n",
      "  coef unary operation 'cos', real\n",
      "    coef binary operation '*', real\n",
      "      coef N5ngfem28ParameterCoefficientFunctionIdEE, real\n",
      "      coef coordinate y, real\n",
      "  coef binary operation '*', real\n",
      "    coef coordinate y, real\n",
      "    coef 1, real\n",
      "\n"
     ]
    }
   ],
   "source": [
    "diff_f = f.Diff(k) # parameter can be used as variable\n",
    "print(diff_f)"
   ]
  },
  {
   "cell_type": "markdown",
   "id": "09aeb57a-98e3-48bb-9f4c-2fd7a11598c9",
   "metadata": {},
   "source": [
    "## 7. interpolate a `CoefficientFunction` into a finite element space"
   ]
  },
  {
   "cell_type": "code",
   "execution_count": 63,
   "id": "fd7598e6-dd6c-4c5c-aab2-c7d43d742537",
   "metadata": {},
   "outputs": [
    {
     "data": {
      "application/vnd.jupyter.widget-view+json": {
       "model_id": "77d75487e3a34af3ad90b312240fc297",
       "version_major": 2,
       "version_minor": 0
      },
      "text/plain": [
       "WebGuiWidget(layout=Layout(height='50vh', width='100%'), value={'gui_settings': {}, 'ngsolve_version': '6.2.24…"
      ]
     },
     "metadata": {},
     "output_type": "display_data"
    }
   ],
   "source": [
    "fes = H1(mesh, order = 1)\n",
    "u = GridFunction(fes)\n",
    "u.Set(myfunc) # set u as myfunc\n",
    "# use oswald-type interpolation\n",
    "Draw(u);"
   ]
  },
  {
   "cell_type": "markdown",
   "id": "149fde88-006d-4512-b9e3-24044191cb15",
   "metadata": {},
   "source": [
    "## 8. define vector-valued `CoefficientFunction`s "
   ]
  },
  {
   "cell_type": "code",
   "execution_count": 62,
   "id": "d8a9432a-fd6f-403f-aa89-43e948dcc758",
   "metadata": {},
   "outputs": [
    {
     "data": {
      "application/vnd.jupyter.widget-view+json": {
       "model_id": "08895b4a454742f78b4428ddbebb5a90",
       "version_major": 2,
       "version_minor": 0
      },
      "text/plain": [
       "WebGuiWidget(layout=Layout(height='50vh', width='100%'), value={'gui_settings': {}, 'ngsolve_version': '6.2.24…"
      ]
     },
     "metadata": {},
     "output_type": "display_data"
    },
    {
     "data": {
      "application/vnd.jupyter.widget-view+json": {
       "model_id": "2d1cc4947b574174ae463a2f96d96c81",
       "version_major": 2,
       "version_minor": 0
      },
      "text/plain": [
       "WebGuiWidget(layout=Layout(height='50vh', width='100%'), value={'gui_settings': {}, 'ngsolve_version': '6.2.24…"
      ]
     },
     "metadata": {},
     "output_type": "display_data"
    },
    {
     "data": {
      "application/vnd.jupyter.widget-view+json": {
       "model_id": "96a699e3654a41e385b7228ef945a834",
       "version_major": 2,
       "version_minor": 0
      },
      "text/plain": [
       "WebGuiWidget(layout=Layout(height='50vh', width='100%'), value={'gui_settings': {}, 'ngsolve_version': '6.2.24…"
      ]
     },
     "metadata": {},
     "output_type": "display_data"
    }
   ],
   "source": [
    "vecfun = CoefficientFunction((-y, sin(x)))\n",
    "# vecfun = CF((-y, sin(x)))\n",
    "Draw(vecfun, mesh);\n",
    "Draw(vecfun, mesh, vectors = True); # draw vector phase\n",
    "Draw(vecfun, mesh, vectors = {\"grid_size\":30}); # draw vector phase"
   ]
  },
  {
   "cell_type": "markdown",
   "id": "5154d22e-473a-4843-bd99-dceee926927f",
   "metadata": {},
   "source": [
    "## 9. compile `CoefficientFunction`s"
   ]
  },
  {
   "cell_type": "code",
   "execution_count": 64,
   "id": "ddc1ef12-b7a7-481e-af5e-29c575f4f625",
   "metadata": {},
   "outputs": [
    {
     "name": "stdout",
     "output_type": "stream",
     "text": [
      "coef binary operation '*', real\n",
      "  coef coordinate x, real\n",
      "  coef binary operation '-', real\n",
      "    coef 1, real\n",
      "    coef coordinate y, real\n",
      "\n",
      "Compiled CF:\n",
      "Step 0: coordinate x\n",
      "Step 1: 1\n",
      "Step 2: coordinate y\n",
      "Step 3: binary operation '-'\n",
      "     input: 1 2 \n",
      "Step 4: binary operation '*'\n",
      "     input: 0 3 \n",
      "\n"
     ]
    }
   ],
   "source": [
    "myfunc_compiled = myfunc.Compile()\n",
    "print(myfunc)\n",
    "print(myfunc_compiled)"
   ]
  },
  {
   "cell_type": "code",
   "execution_count": null,
   "id": "7ef8b1ab-482f-4d1d-bd43-5e1c6245e449",
   "metadata": {},
   "outputs": [],
   "source": []
  }
 ],
 "metadata": {
  "kernelspec": {
   "display_name": "Python 3 (ipykernel)",
   "language": "python",
   "name": "python3"
  },
  "language_info": {
   "codemirror_mode": {
    "name": "ipython",
    "version": 3
   },
   "file_extension": ".py",
   "mimetype": "text/x-python",
   "name": "python",
   "nbconvert_exporter": "python",
   "pygments_lexer": "ipython3",
   "version": "3.10.12"
  }
 },
 "nbformat": 4,
 "nbformat_minor": 5
}
